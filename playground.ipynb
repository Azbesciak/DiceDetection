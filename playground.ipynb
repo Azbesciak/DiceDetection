{
 "cells": [
  {
   "cell_type": "code",
   "execution_count": 47,
   "metadata": {},
   "outputs": [],
   "source": [
    "%matplotlib inline \n",
    "from __future__ import division\n",
    "from pylab import *\n",
    "import skimage as ski\n",
    "from skimage import data, io, filters, exposure, measure\n",
    "from skimage.filters import rank\n",
    "from skimage import img_as_float, img_as_ubyte\n",
    "from skimage.morphology import disk\n",
    "import skimage.morphology as mp\n",
    "from skimage import util\n",
    "from skimage.color import rgb2hsv, hsv2rgb, rgb2gray, gray2rgb\n",
    "from skimage.filters.edges import convolve\n",
    "from matplotlib import pylab as plt\n",
    "import numpy as np\n",
    "from numpy import array\n",
    "from IPython.display import display\n",
    "from ipywidgets import interact, interactive, fixed\n",
    "from ipywidgets import *\n",
    "from ipykernel.pylab.backend_inline import flush_figures\n",
    "from multiprocessing.pool import ThreadPool\n",
    "from skimage.transform import hough_circle, hough_circle_peaks\n",
    "from skimage.draw import circle_perimeter"
   ]
  },
  {
   "cell_type": "code",
   "execution_count": 71,
   "metadata": {},
   "outputs": [],
   "source": [
    "dicesToRead = ['01']\n",
    "def drawDiceImage(i, img):\n",
    "    plt.subplot(1,2,i)\n",
    "    plt.imshow(img)"
   ]
  },
  {
   "cell_type": "code",
   "execution_count": 72,
   "metadata": {},
   "outputs": [],
   "source": [
    "dices = [io.imread('./dices/dice{0}.jpg'.format(i)) for i in dicesToRead]"
   ]
  },
  {
   "cell_type": "code",
   "execution_count": 74,
   "metadata": {},
   "outputs": [],
   "source": [
    "def getEdges(img, gamma = 0.7, sig=3, l=0, u=100): #gama 0.7 sig = 4.65\n",
    "    img = rgb2gray(img)\n",
    "#     pp,pk = np.percentile(img,(l,u));\n",
    "#     img = exposure.rescale_intensity(img,in_range=(pp,pk))\n",
    "    from skimage import feature\n",
    "#     img = img ** gamma\n",
    "    img = ski.feature.canny(img, sigma=sig)\n",
    "#     img = mp.dilation(img)\n",
    "    return img"
   ]
  },
  {
   "cell_type": "code",
   "execution_count": 82,
   "metadata": {},
   "outputs": [],
   "source": [
    "def findCircles(image, edges):\n",
    "    # Detect two radii\n",
    "    hough_radii = np.arange(5, 15, 4)\n",
    "    hough_res = hough_circle(edges, hough_radii)\n",
    "\n",
    "    accums, cx, cy, radii = hough_circle_peaks(hough_res, hough_radii,\n",
    "                                               total_num_peaks=10)\n",
    "\n",
    "    # Draw them\n",
    "    fig, ax = plt.subplots(ncols=1, nrows=1, figsize=(10, 4))\n",
    "    image = gray2rgb(image)\n",
    "    for center_y, center_x, radius in zip(cy, cx, radii):\n",
    "        circy, circx = circle_perimeter(center_y, center_x, radius)\n",
    "        image[circy, circx] = (220, 20, 20)\n",
    "    return image"
   ]
  },
  {
   "cell_type": "code",
   "execution_count": 83,
   "metadata": {},
   "outputs": [
    {
     "data": {
      "text/html": [
       "<p>Failed to display Jupyter Widget of type <code>interactive</code>.</p>\n",
       "<p>\n",
       "  If you're reading this message in Jupyter Notebook or JupyterLab, it may mean\n",
       "  that the widgets JavaScript is still loading. If this message persists, it\n",
       "  likely means that the widgets JavaScript library is either not installed or\n",
       "  not enabled. See the <a href=\"https://ipywidgets.readthedocs.io/en/stable/user_install.html\">Jupyter\n",
       "  Widgets Documentation</a> for setup instructions.\n",
       "</p>\n",
       "<p>\n",
       "  If you're reading this message in another notebook frontend (for example, a static\n",
       "  rendering on GitHub or <a href=\"https://nbviewer.jupyter.org/\">NBViewer</a>),\n",
       "  it may mean that your frontend doesn't currently support widgets.\n",
       "</p>\n"
      ],
      "text/plain": [
       "interactive(children=(FloatSlider(value=1.4, description='gamma', max=2.0, min=0.1), FloatSlider(value=1.7, description='sig', max=4.0, min=0.1), IntSlider(value=0, description='l'), IntSlider(value=100, description='u'), Output()), _dom_classes=('widget-interact',))"
      ]
     },
     "metadata": {},
     "output_type": "execute_result"
    },
    {
     "data": {
      "text/plain": [
       "<function __main__.drawDices>"
      ]
     },
     "execution_count": 83,
     "metadata": {},
     "output_type": "execute_result"
    }
   ],
   "source": [
    "def drawDices(gamma=1.4, sig = 1.7, l=0, u=100):\n",
    "    fig = plt.figure(facecolor=\"black\", figsize=(60,60))\n",
    "    i = 1\n",
    "    for img in dices:\n",
    "        edges = getEdges(img, gamma, sig, l, u)\n",
    "        img = findCircles(img, edges)\n",
    "        drawDiceImage(i, edges)\n",
    "        i +=1 \n",
    "        drawDiceImage(i, img)\n",
    "    plt.tight_layout()\n",
    "    plt.show()\n",
    "    fig.savefig(\"dices.pdf\",facecolor=\"black\")\n",
    "    plt.close()\n",
    "\n",
    "interact(drawDices, gamma=(0.1,2,0.1), sig=(0.1,4,0.1), l=(0,100,1), u = (0,100,1))"
   ]
  },
  {
   "cell_type": "code",
   "execution_count": null,
   "metadata": {},
   "outputs": [],
   "source": []
  }
 ],
 "metadata": {
  "kernelspec": {
   "display_name": "Python 3",
   "language": "python",
   "name": "python3"
  },
  "language_info": {
   "codemirror_mode": {
    "name": "ipython",
    "version": 3
   },
   "file_extension": ".py",
   "mimetype": "text/x-python",
   "name": "python",
   "nbconvert_exporter": "python",
   "pygments_lexer": "ipython3",
   "version": "3.6.2"
  }
 },
 "nbformat": 4,
 "nbformat_minor": 1
}
